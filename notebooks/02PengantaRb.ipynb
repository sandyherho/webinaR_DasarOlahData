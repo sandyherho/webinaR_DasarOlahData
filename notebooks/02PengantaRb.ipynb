{
 "cells": [
  {
   "cell_type": "markdown",
   "metadata": {},
   "source": [
    "# PengantaR (Bagian 2)"
   ]
  },
  {
   "cell_type": "markdown",
   "metadata": {},
   "source": [
    "### Mengakses elemen vektor"
   ]
  },
  {
   "cell_type": "code",
   "execution_count": 1,
   "metadata": {},
   "outputs": [
    {
     "data": {
      "text/html": [
       "<style>\n",
       ".list-inline {list-style: none; margin:0; padding: 0}\n",
       ".list-inline>li {display: inline-block}\n",
       ".list-inline>li:not(:last-child)::after {content: \"\\00b7\"; padding: 0 .5ex}\n",
       "</style>\n",
       "<ol class=list-inline><li>2</li><li>4</li><li>6</li><li>8</li><li>10</li></ol>\n"
      ],
      "text/latex": [
       "\\begin{enumerate*}\n",
       "\\item 2\n",
       "\\item 4\n",
       "\\item 6\n",
       "\\item 8\n",
       "\\item 10\n",
       "\\end{enumerate*}\n"
      ],
      "text/markdown": [
       "1. 2\n",
       "2. 4\n",
       "3. 6\n",
       "4. 8\n",
       "5. 10\n",
       "\n",
       "\n"
      ],
      "text/plain": [
       "[1]  2  4  6  8 10"
      ]
     },
     "metadata": {},
     "output_type": "display_data"
    }
   ],
   "source": [
    "A <- seq(2,10, by=2)\n",
    "A"
   ]
  },
  {
   "cell_type": "code",
   "execution_count": 2,
   "metadata": {},
   "outputs": [
    {
     "data": {
      "text/html": [
       "<style>\n",
       ".list-inline {list-style: none; margin:0; padding: 0}\n",
       ".list-inline>li {display: inline-block}\n",
       ".list-inline>li:not(:last-child)::after {content: \"\\00b7\"; padding: 0 .5ex}\n",
       "</style>\n",
       "<ol class=list-inline><li>2</li><li>4</li><li>6</li></ol>\n"
      ],
      "text/latex": [
       "\\begin{enumerate*}\n",
       "\\item 2\n",
       "\\item 4\n",
       "\\item 6\n",
       "\\end{enumerate*}\n"
      ],
      "text/markdown": [
       "1. 2\n",
       "2. 4\n",
       "3. 6\n",
       "\n",
       "\n"
      ],
      "text/plain": [
       "[1] 2 4 6"
      ]
     },
     "metadata": {},
     "output_type": "display_data"
    }
   ],
   "source": [
    "A[c(1,2,3)]"
   ]
  },
  {
   "cell_type": "code",
   "execution_count": 3,
   "metadata": {},
   "outputs": [
    {
     "data": {
      "text/html": [
       "<style>\n",
       ".list-inline {list-style: none; margin:0; padding: 0}\n",
       ".list-inline>li {display: inline-block}\n",
       ".list-inline>li:not(:last-child)::after {content: \"\\00b7\"; padding: 0 .5ex}\n",
       "</style>\n",
       "<ol class=list-inline><li>2</li><li>4</li><li>6</li></ol>\n"
      ],
      "text/latex": [
       "\\begin{enumerate*}\n",
       "\\item 2\n",
       "\\item 4\n",
       "\\item 6\n",
       "\\end{enumerate*}\n"
      ],
      "text/markdown": [
       "1. 2\n",
       "2. 4\n",
       "3. 6\n",
       "\n",
       "\n"
      ],
      "text/plain": [
       "[1] 2 4 6"
      ]
     },
     "metadata": {},
     "output_type": "display_data"
    }
   ],
   "source": [
    "A[1:3]"
   ]
  },
  {
   "cell_type": "code",
   "execution_count": 4,
   "metadata": {},
   "outputs": [
    {
     "data": {
      "text/html": [
       "<style>\n",
       ".list-inline {list-style: none; margin:0; padding: 0}\n",
       ".list-inline>li {display: inline-block}\n",
       ".list-inline>li:not(:last-child)::after {content: \"\\00b7\"; padding: 0 .5ex}\n",
       "</style>\n",
       "<ol class=list-inline><li>4</li><li>6</li><li>8</li><li>10</li></ol>\n"
      ],
      "text/latex": [
       "\\begin{enumerate*}\n",
       "\\item 4\n",
       "\\item 6\n",
       "\\item 8\n",
       "\\item 10\n",
       "\\end{enumerate*}\n"
      ],
      "text/markdown": [
       "1. 4\n",
       "2. 6\n",
       "3. 8\n",
       "4. 10\n",
       "\n",
       "\n"
      ],
      "text/plain": [
       "[1]  4  6  8 10"
      ]
     },
     "metadata": {},
     "output_type": "display_data"
    }
   ],
   "source": [
    "A[c(-1)] # tanpa indeks 1"
   ]
  },
  {
   "cell_type": "code",
   "execution_count": 5,
   "metadata": {},
   "outputs": [
    {
     "data": {
      "text/html": [
       "<style>\n",
       ".list-inline {list-style: none; margin:0; padding: 0}\n",
       ".list-inline>li {display: inline-block}\n",
       ".list-inline>li:not(:last-child)::after {content: \"\\00b7\"; padding: 0 .5ex}\n",
       "</style>\n",
       "<ol class=list-inline><li>6</li><li>8</li><li>10</li></ol>\n"
      ],
      "text/latex": [
       "\\begin{enumerate*}\n",
       "\\item 6\n",
       "\\item 8\n",
       "\\item 10\n",
       "\\end{enumerate*}\n"
      ],
      "text/markdown": [
       "1. 6\n",
       "2. 8\n",
       "3. 10\n",
       "\n",
       "\n"
      ],
      "text/plain": [
       "[1]  6  8 10"
      ]
     },
     "metadata": {},
     "output_type": "display_data"
    }
   ],
   "source": [
    "A[c(-1,-2)] # tanpa indeks 1 dan 2"
   ]
  },
  {
   "cell_type": "code",
   "execution_count": 6,
   "metadata": {},
   "outputs": [
    {
     "data": {
      "text/html": [
       "<style>\n",
       ".list-inline {list-style: none; margin:0; padding: 0}\n",
       ".list-inline>li {display: inline-block}\n",
       ".list-inline>li:not(:last-child)::after {content: \"\\00b7\"; padding: 0 .5ex}\n",
       "</style>\n",
       "<ol class=list-inline><li>8</li><li>10</li></ol>\n"
      ],
      "text/latex": [
       "\\begin{enumerate*}\n",
       "\\item 8\n",
       "\\item 10\n",
       "\\end{enumerate*}\n"
      ],
      "text/markdown": [
       "1. 8\n",
       "2. 10\n",
       "\n",
       "\n"
      ],
      "text/plain": [
       "[1]  8 10"
      ]
     },
     "metadata": {},
     "output_type": "display_data"
    }
   ],
   "source": [
    "A[c(-1,-2,-3)] # tanpa indeks 1,2,dan 3"
   ]
  },
  {
   "cell_type": "code",
   "execution_count": 7,
   "metadata": {},
   "outputs": [
    {
     "data": {
      "text/html": [
       "<style>\n",
       ".list-inline {list-style: none; margin:0; padding: 0}\n",
       ".list-inline>li {display: inline-block}\n",
       ".list-inline>li:not(:last-child)::after {content: \"\\00b7\"; padding: 0 .5ex}\n",
       "</style>\n",
       "<ol class=list-inline><li>2</li><li>6</li><li>8</li></ol>\n"
      ],
      "text/latex": [
       "\\begin{enumerate*}\n",
       "\\item 2\n",
       "\\item 6\n",
       "\\item 8\n",
       "\\end{enumerate*}\n"
      ],
      "text/markdown": [
       "1. 2\n",
       "2. 6\n",
       "3. 8\n",
       "\n",
       "\n"
      ],
      "text/plain": [
       "[1] 2 6 8"
      ]
     },
     "metadata": {},
     "output_type": "display_data"
    }
   ],
   "source": [
    "A[c(TRUE, FALSE, TRUE, TRUE, FALSE)]"
   ]
  },
  {
   "cell_type": "markdown",
   "metadata": {},
   "source": [
    "Rangkuman:\n",
    "\n",
    "* Kita dapat menggunakan `[]` untuk mengakses elemen vektor (*indexing* dimulai dari `1`).\n",
    "\n",
    "* Nilai negatif digunakan untuk membuang elemen pada indeks yang tidak dikehendaki.\n",
    "\n",
    "* Nilai - nilai Boolean, `TRUE` dan `FALSE` juga dapat digunakan untuk pengindeksan vektor."
   ]
  },
  {
   "cell_type": "markdown",
   "metadata": {},
   "source": [
    "### Mendefinisikan matriks"
   ]
  },
  {
   "cell_type": "markdown",
   "metadata": {},
   "source": [
    "$$\n",
    "A_{m,n} = \n",
    "\\begin{pmatrix}\n",
    "a_{1,1} & a_{1,2} & \\cdots & a_{1,n} \\\\\n",
    "a_{2,1} & a_{2,2} & \\cdots & a_{2,n} \\\\\n",
    "\\vdots  & \\vdots  & \\ddots & \\vdots  \\\\\n",
    "a_{m,1} & a_{m,2} & \\cdots & a_{m,n} \n",
    "\\end{pmatrix}\n",
    "$$"
   ]
  },
  {
   "cell_type": "markdown",
   "metadata": {},
   "source": [
    "Sintaks : `matrix(data, nrow, ncol, byrow, dimnames)`\n",
    "\n",
    "`data`: elemen - elemen di dalam matriks,\n",
    "\n",
    "`nrow`: jumlah baris,\n",
    "\n",
    "`ncols`: jumlah kolom,\n",
    "\n",
    "`byrow`: Jika `TRUE`, maka elemen - elemen matriks akan disusun berdasarkan kolom\n",
    "\n",
    "`dimnames`: Nama yg ditugaskan pada baris dan kolom."
   ]
  },
  {
   "cell_type": "markdown",
   "metadata": {},
   "source": [
    "contoh:"
   ]
  },
  {
   "cell_type": "code",
   "execution_count": 8,
   "metadata": {},
   "outputs": [
    {
     "data": {
      "text/html": [
       "<table>\n",
       "<caption>A matrix: 3 × 3 of type int</caption>\n",
       "<tbody>\n",
       "\t<tr><td>1</td><td>4</td><td>7</td></tr>\n",
       "\t<tr><td>2</td><td>5</td><td>8</td></tr>\n",
       "\t<tr><td>3</td><td>6</td><td>9</td></tr>\n",
       "</tbody>\n",
       "</table>\n"
      ],
      "text/latex": [
       "A matrix: 3 × 3 of type int\n",
       "\\begin{tabular}{lll}\n",
       "\t 1 & 4 & 7\\\\\n",
       "\t 2 & 5 & 8\\\\\n",
       "\t 3 & 6 & 9\\\\\n",
       "\\end{tabular}\n"
      ],
      "text/markdown": [
       "\n",
       "A matrix: 3 × 3 of type int\n",
       "\n",
       "| 1 | 4 | 7 |\n",
       "| 2 | 5 | 8 |\n",
       "| 3 | 6 | 9 |\n",
       "\n"
      ],
      "text/plain": [
       "     [,1] [,2] [,3]\n",
       "[1,] 1    4    7   \n",
       "[2,] 2    5    8   \n",
       "[3,] 3    6    9   "
      ]
     },
     "metadata": {},
     "output_type": "display_data"
    }
   ],
   "source": [
    "matrix(1:9, nrow=3, ncol=3)"
   ]
  },
  {
   "cell_type": "code",
   "execution_count": 9,
   "metadata": {},
   "outputs": [
    {
     "data": {
      "text/html": [
       "<table>\n",
       "<caption>A matrix: 3 × 3 of type int</caption>\n",
       "<tbody>\n",
       "\t<tr><td>1</td><td>2</td><td>3</td></tr>\n",
       "\t<tr><td>4</td><td>5</td><td>6</td></tr>\n",
       "\t<tr><td>7</td><td>8</td><td>9</td></tr>\n",
       "</tbody>\n",
       "</table>\n"
      ],
      "text/latex": [
       "A matrix: 3 × 3 of type int\n",
       "\\begin{tabular}{lll}\n",
       "\t 1 & 2 & 3\\\\\n",
       "\t 4 & 5 & 6\\\\\n",
       "\t 7 & 8 & 9\\\\\n",
       "\\end{tabular}\n"
      ],
      "text/markdown": [
       "\n",
       "A matrix: 3 × 3 of type int\n",
       "\n",
       "| 1 | 2 | 3 |\n",
       "| 4 | 5 | 6 |\n",
       "| 7 | 8 | 9 |\n",
       "\n"
      ],
      "text/plain": [
       "     [,1] [,2] [,3]\n",
       "[1,] 1    2    3   \n",
       "[2,] 4    5    6   \n",
       "[3,] 7    8    9   "
      ]
     },
     "metadata": {},
     "output_type": "display_data"
    }
   ],
   "source": [
    "matrix(1:9, nrow=3, ncol=3, byrow=TRUE)"
   ]
  },
  {
   "cell_type": "code",
   "execution_count": 10,
   "metadata": {},
   "outputs": [
    {
     "data": {
      "text/html": [
       "<table>\n",
       "<caption>A matrix: 3 × 3 of type int</caption>\n",
       "<thead>\n",
       "\t<tr><th></th><th scope=col>kolom1</th><th scope=col>kolom2</th><th scope=col>kolom3</th></tr>\n",
       "</thead>\n",
       "<tbody>\n",
       "\t<tr><th scope=row>baris1</th><td>1</td><td>4</td><td>7</td></tr>\n",
       "\t<tr><th scope=row>baris2</th><td>2</td><td>5</td><td>8</td></tr>\n",
       "\t<tr><th scope=row>baris3</th><td>3</td><td>6</td><td>9</td></tr>\n",
       "</tbody>\n",
       "</table>\n"
      ],
      "text/latex": [
       "A matrix: 3 × 3 of type int\n",
       "\\begin{tabular}{r|lll}\n",
       "  & kolom1 & kolom2 & kolom3\\\\\n",
       "\\hline\n",
       "\tbaris1 & 1 & 4 & 7\\\\\n",
       "\tbaris2 & 2 & 5 & 8\\\\\n",
       "\tbaris3 & 3 & 6 & 9\\\\\n",
       "\\end{tabular}\n"
      ],
      "text/markdown": [
       "\n",
       "A matrix: 3 × 3 of type int\n",
       "\n",
       "| <!--/--> | kolom1 | kolom2 | kolom3 |\n",
       "|---|---|---|---|\n",
       "| baris1 | 1 | 4 | 7 |\n",
       "| baris2 | 2 | 5 | 8 |\n",
       "| baris3 | 3 | 6 | 9 |\n",
       "\n"
      ],
      "text/plain": [
       "       kolom1 kolom2 kolom3\n",
       "baris1 1      4      7     \n",
       "baris2 2      5      8     \n",
       "baris3 3      6      9     "
      ]
     },
     "metadata": {},
     "output_type": "display_data"
    }
   ],
   "source": [
    "baris <- c('baris1', 'baris2', 'baris3')\n",
    "kolom <- c('kolom1', 'kolom2', 'kolom3')\n",
    "\n",
    "matrix(1:9, nrow=3, ncol=3, byrow=FALSE, dimnames = list(baris,kolom))"
   ]
  },
  {
   "cell_type": "markdown",
   "metadata": {},
   "source": [
    "### Mengakses elemen matriks"
   ]
  },
  {
   "cell_type": "code",
   "execution_count": 11,
   "metadata": {},
   "outputs": [
    {
     "data": {
      "text/html": [
       "<table>\n",
       "<caption>A matrix: 3 × 3 of type int</caption>\n",
       "<tbody>\n",
       "\t<tr><td>1</td><td>4</td><td>7</td></tr>\n",
       "\t<tr><td>2</td><td>5</td><td>8</td></tr>\n",
       "\t<tr><td>3</td><td>6</td><td>9</td></tr>\n",
       "</tbody>\n",
       "</table>\n"
      ],
      "text/latex": [
       "A matrix: 3 × 3 of type int\n",
       "\\begin{tabular}{lll}\n",
       "\t 1 & 4 & 7\\\\\n",
       "\t 2 & 5 & 8\\\\\n",
       "\t 3 & 6 & 9\\\\\n",
       "\\end{tabular}\n"
      ],
      "text/markdown": [
       "\n",
       "A matrix: 3 × 3 of type int\n",
       "\n",
       "| 1 | 4 | 7 |\n",
       "| 2 | 5 | 8 |\n",
       "| 3 | 6 | 9 |\n",
       "\n"
      ],
      "text/plain": [
       "     [,1] [,2] [,3]\n",
       "[1,] 1    4    7   \n",
       "[2,] 2    5    8   \n",
       "[3,] 3    6    9   "
      ]
     },
     "metadata": {},
     "output_type": "display_data"
    }
   ],
   "source": [
    "M = matrix(1:9, nrow=3, ncol=3)\n",
    "M"
   ]
  },
  {
   "cell_type": "markdown",
   "metadata": {},
   "source": [
    "Sintaks: `M[baris, kolom]`"
   ]
  },
  {
   "cell_type": "code",
   "execution_count": 12,
   "metadata": {},
   "outputs": [
    {
     "data": {
      "text/html": [
       "1"
      ],
      "text/latex": [
       "1"
      ],
      "text/markdown": [
       "1"
      ],
      "text/plain": [
       "[1] 1"
      ]
     },
     "metadata": {},
     "output_type": "display_data"
    }
   ],
   "source": [
    "M[1,1]"
   ]
  },
  {
   "cell_type": "code",
   "execution_count": 13,
   "metadata": {},
   "outputs": [
    {
     "data": {
      "text/html": [
       "<style>\n",
       ".list-inline {list-style: none; margin:0; padding: 0}\n",
       ".list-inline>li {display: inline-block}\n",
       ".list-inline>li:not(:last-child)::after {content: \"\\00b7\"; padding: 0 .5ex}\n",
       "</style>\n",
       "<ol class=list-inline><li>1</li><li>2</li><li>3</li></ol>\n"
      ],
      "text/latex": [
       "\\begin{enumerate*}\n",
       "\\item 1\n",
       "\\item 2\n",
       "\\item 3\n",
       "\\end{enumerate*}\n"
      ],
      "text/markdown": [
       "1. 1\n",
       "2. 2\n",
       "3. 3\n",
       "\n",
       "\n"
      ],
      "text/plain": [
       "[1] 1 2 3"
      ]
     },
     "metadata": {},
     "output_type": "display_data"
    }
   ],
   "source": [
    "M[,1] # kolom 1"
   ]
  },
  {
   "cell_type": "code",
   "execution_count": 14,
   "metadata": {},
   "outputs": [
    {
     "data": {
      "text/html": [
       "<table>\n",
       "<caption>A matrix: 3 × 3 of type int</caption>\n",
       "<thead>\n",
       "\t<tr><th></th><th scope=col>k1</th><th scope=col>k2</th><th scope=col>k3</th></tr>\n",
       "</thead>\n",
       "<tbody>\n",
       "\t<tr><th scope=row>b1</th><td>1</td><td>4</td><td>7</td></tr>\n",
       "\t<tr><th scope=row>b2</th><td>2</td><td>5</td><td>8</td></tr>\n",
       "\t<tr><th scope=row>b3</th><td>3</td><td>6</td><td>9</td></tr>\n",
       "</tbody>\n",
       "</table>\n"
      ],
      "text/latex": [
       "A matrix: 3 × 3 of type int\n",
       "\\begin{tabular}{r|lll}\n",
       "  & k1 & k2 & k3\\\\\n",
       "\\hline\n",
       "\tb1 & 1 & 4 & 7\\\\\n",
       "\tb2 & 2 & 5 & 8\\\\\n",
       "\tb3 & 3 & 6 & 9\\\\\n",
       "\\end{tabular}\n"
      ],
      "text/markdown": [
       "\n",
       "A matrix: 3 × 3 of type int\n",
       "\n",
       "| <!--/--> | k1 | k2 | k3 |\n",
       "|---|---|---|---|\n",
       "| b1 | 1 | 4 | 7 |\n",
       "| b2 | 2 | 5 | 8 |\n",
       "| b3 | 3 | 6 | 9 |\n",
       "\n"
      ],
      "text/plain": [
       "   k1 k2 k3\n",
       "b1 1  4  7 \n",
       "b2 2  5  8 \n",
       "b3 3  6  9 "
      ]
     },
     "metadata": {},
     "output_type": "display_data"
    }
   ],
   "source": [
    "bar <- c('b1', 'b2', 'b3')\n",
    "kol <- c('k1', 'k2', 'k3')\n",
    "\n",
    "M <- matrix(1:9, nrow=3, ncol=3, dimnames=list(bar,kol))\n",
    "M"
   ]
  },
  {
   "cell_type": "code",
   "execution_count": 15,
   "metadata": {},
   "outputs": [
    {
     "data": {
      "text/html": [
       "<style>\n",
       ".dl-inline {width: auto; margin:0; padding: 0}\n",
       ".dl-inline>dt, .dl-inline>dd {float: none; width: auto; display: inline-block}\n",
       ".dl-inline>dt::after {content: \":\\0020\"; padding-right: .5ex}\n",
       ".dl-inline>dt:not(:first-of-type) {padding-left: .5ex}\n",
       "</style><dl class=dl-inline><dt>k1</dt><dd>1</dd><dt>k2</dt><dd>4</dd><dt>k3</dt><dd>7</dd></dl>\n"
      ],
      "text/latex": [
       "\\begin{description*}\n",
       "\\item[k1] 1\n",
       "\\item[k2] 4\n",
       "\\item[k3] 7\n",
       "\\end{description*}\n"
      ],
      "text/markdown": [
       "k1\n",
       ":   1k2\n",
       ":   4k3\n",
       ":   7\n",
       "\n"
      ],
      "text/plain": [
       "k1 k2 k3 \n",
       " 1  4  7 "
      ]
     },
     "metadata": {},
     "output_type": "display_data"
    }
   ],
   "source": [
    "M['b1', ] # baris 1"
   ]
  },
  {
   "cell_type": "code",
   "execution_count": 16,
   "metadata": {},
   "outputs": [
    {
     "data": {
      "text/html": [
       "<style>\n",
       ".dl-inline {width: auto; margin:0; padding: 0}\n",
       ".dl-inline>dt, .dl-inline>dd {float: none; width: auto; display: inline-block}\n",
       ".dl-inline>dt::after {content: \":\\0020\"; padding-right: .5ex}\n",
       ".dl-inline>dt:not(:first-of-type) {padding-left: .5ex}\n",
       "</style><dl class=dl-inline><dt>k1</dt><dd>1</dd><dt>k2</dt><dd>4</dd><dt>k3</dt><dd>7</dd></dl>\n"
      ],
      "text/latex": [
       "\\begin{description*}\n",
       "\\item[k1] 1\n",
       "\\item[k2] 4\n",
       "\\item[k3] 7\n",
       "\\end{description*}\n"
      ],
      "text/markdown": [
       "k1\n",
       ":   1k2\n",
       ":   4k3\n",
       ":   7\n",
       "\n"
      ],
      "text/plain": [
       "k1 k2 k3 \n",
       " 1  4  7 "
      ]
     },
     "metadata": {},
     "output_type": "display_data"
    }
   ],
   "source": [
    "M[1,]"
   ]
  },
  {
   "cell_type": "markdown",
   "metadata": {},
   "source": [
    "### DataFrame"
   ]
  },
  {
   "cell_type": "markdown",
   "metadata": {},
   "source": [
    "<p align=\"justify\">DataFrame adalah suatu tabel atau struktur berbentuk menyerupai <i>array</i> dua dimensi, di mana setiap kolomnya menyimpan data dari satu variabel dan setiap barisnya menyimpan data untuk suatu \"titik\" data yang sama dengan variabel yang berbeda - beda. Ibaratnya seperti <i>spreadsheet</i> MS Excel.</p>"
   ]
  },
  {
   "cell_type": "markdown",
   "metadata": {},
   "source": [
    "Sintaks: `data.frame(#data)`"
   ]
  },
  {
   "cell_type": "markdown",
   "metadata": {},
   "source": [
    "Contoh:"
   ]
  },
  {
   "cell_type": "code",
   "execution_count": 17,
   "metadata": {},
   "outputs": [
    {
     "data": {
      "text/html": [
       "<table>\n",
       "<caption>A data.frame: 3 × 2</caption>\n",
       "<thead>\n",
       "\t<tr><th scope=col>nama</th><th scope=col>umur</th></tr>\n",
       "\t<tr><th scope=col>&lt;fct&gt;</th><th scope=col>&lt;dbl&gt;</th></tr>\n",
       "</thead>\n",
       "<tbody>\n",
       "\t<tr><td>Sandy </td><td>43</td></tr>\n",
       "\t<tr><td>Evelyn</td><td>23</td></tr>\n",
       "\t<tr><td>Brenda</td><td>45</td></tr>\n",
       "</tbody>\n",
       "</table>\n"
      ],
      "text/latex": [
       "A data.frame: 3 × 2\n",
       "\\begin{tabular}{ll}\n",
       " nama & umur\\\\\n",
       " <fct> & <dbl>\\\\\n",
       "\\hline\n",
       "\t Sandy  & 43\\\\\n",
       "\t Evelyn & 23\\\\\n",
       "\t Brenda & 45\\\\\n",
       "\\end{tabular}\n"
      ],
      "text/markdown": [
       "\n",
       "A data.frame: 3 × 2\n",
       "\n",
       "| nama &lt;fct&gt; | umur &lt;dbl&gt; |\n",
       "|---|---|\n",
       "| Sandy  | 43 |\n",
       "| Evelyn | 23 |\n",
       "| Brenda | 45 |\n",
       "\n"
      ],
      "text/plain": [
       "  nama   umur\n",
       "1 Sandy  43  \n",
       "2 Evelyn 23  \n",
       "3 Brenda 45  "
      ]
     },
     "metadata": {},
     "output_type": "display_data"
    }
   ],
   "source": [
    "nama <- c('Sandy', 'Evelyn', 'Brenda')\n",
    "umur <- c(43, 23, 45)\n",
    "data.frame(nama,umur)"
   ]
  },
  {
   "cell_type": "markdown",
   "metadata": {},
   "source": [
    "### Mengakses DataFrame "
   ]
  },
  {
   "cell_type": "code",
   "execution_count": 18,
   "metadata": {},
   "outputs": [
    {
     "data": {
      "text/html": [
       "<table>\n",
       "<caption>A data.frame: 3 × 3</caption>\n",
       "<thead>\n",
       "\t<tr><th scope=col>nama</th><th scope=col>umur</th><th scope=col>gaji</th></tr>\n",
       "\t<tr><th scope=col>&lt;fct&gt;</th><th scope=col>&lt;dbl&gt;</th><th scope=col>&lt;dbl&gt;</th></tr>\n",
       "</thead>\n",
       "<tbody>\n",
       "\t<tr><td>Sandy </td><td>43</td><td>1e+06</td></tr>\n",
       "\t<tr><td>Evelyn</td><td>23</td><td>9e+06</td></tr>\n",
       "\t<tr><td>Brenda</td><td>45</td><td>2e+06</td></tr>\n",
       "</tbody>\n",
       "</table>\n"
      ],
      "text/latex": [
       "A data.frame: 3 × 3\n",
       "\\begin{tabular}{lll}\n",
       " nama & umur & gaji\\\\\n",
       " <fct> & <dbl> & <dbl>\\\\\n",
       "\\hline\n",
       "\t Sandy  & 43 & 1e+06\\\\\n",
       "\t Evelyn & 23 & 9e+06\\\\\n",
       "\t Brenda & 45 & 2e+06\\\\\n",
       "\\end{tabular}\n"
      ],
      "text/markdown": [
       "\n",
       "A data.frame: 3 × 3\n",
       "\n",
       "| nama &lt;fct&gt; | umur &lt;dbl&gt; | gaji &lt;dbl&gt; |\n",
       "|---|---|---|\n",
       "| Sandy  | 43 | 1e+06 |\n",
       "| Evelyn | 23 | 9e+06 |\n",
       "| Brenda | 45 | 2e+06 |\n",
       "\n"
      ],
      "text/plain": [
       "  nama   umur gaji \n",
       "1 Sandy  43   1e+06\n",
       "2 Evelyn 23   9e+06\n",
       "3 Brenda 45   2e+06"
      ]
     },
     "metadata": {},
     "output_type": "display_data"
    }
   ],
   "source": [
    "nama <- c('Sandy', 'Evelyn', 'Brenda')\n",
    "umur <- c(43, 23, 45)\n",
    "gaji <- c(1000000, 9000000, 2000000)\n",
    "\n",
    "D <- data.frame(nama,umur, gaji)\n",
    "D"
   ]
  },
  {
   "cell_type": "markdown",
   "metadata": {},
   "source": [
    "Cara pertama:"
   ]
  },
  {
   "cell_type": "code",
   "execution_count": 19,
   "metadata": {},
   "outputs": [
    {
     "data": {
      "text/html": [
       "<style>\n",
       ".list-inline {list-style: none; margin:0; padding: 0}\n",
       ".list-inline>li {display: inline-block}\n",
       ".list-inline>li:not(:last-child)::after {content: \"\\00b7\"; padding: 0 .5ex}\n",
       "</style>\n",
       "<ol class=list-inline><li>Sandy</li><li>Evelyn</li><li>Brenda</li></ol>\n",
       "\n",
       "<details>\n",
       "\t<summary style=display:list-item;cursor:pointer>\n",
       "\t\t<strong>Levels</strong>:\n",
       "\t</summary>\n",
       "\t<style>\n",
       "\t.list-inline {list-style: none; margin:0; padding: 0}\n",
       "\t.list-inline>li {display: inline-block}\n",
       "\t.list-inline>li:not(:last-child)::after {content: \"\\00b7\"; padding: 0 .5ex}\n",
       "\t</style>\n",
       "\t<ol class=list-inline><li>'Brenda'</li><li>'Evelyn'</li><li>'Sandy'</li></ol>\n",
       "</details>"
      ],
      "text/latex": [
       "\\begin{enumerate*}\n",
       "\\item Sandy\n",
       "\\item Evelyn\n",
       "\\item Brenda\n",
       "\\end{enumerate*}\n",
       "\n",
       "\\emph{Levels}: \\begin{enumerate*}\n",
       "\\item 'Brenda'\n",
       "\\item 'Evelyn'\n",
       "\\item 'Sandy'\n",
       "\\end{enumerate*}\n"
      ],
      "text/markdown": [
       "1. Sandy\n",
       "2. Evelyn\n",
       "3. Brenda\n",
       "\n",
       "\n",
       "\n",
       "**Levels**: 1. 'Brenda'\n",
       "2. 'Evelyn'\n",
       "3. 'Sandy'\n",
       "\n",
       "\n"
      ],
      "text/plain": [
       "[1] Sandy  Evelyn Brenda\n",
       "Levels: Brenda Evelyn Sandy"
      ]
     },
     "metadata": {},
     "output_type": "display_data"
    }
   ],
   "source": [
    "D$nama # akses kolom nama dari dataframe D"
   ]
  },
  {
   "cell_type": "code",
   "execution_count": 20,
   "metadata": {},
   "outputs": [
    {
     "data": {
      "text/html": [
       "Sandy\n",
       "<details>\n",
       "\t<summary style=display:list-item;cursor:pointer>\n",
       "\t\t<strong>Levels</strong>:\n",
       "\t</summary>\n",
       "\t<style>\n",
       "\t.list-inline {list-style: none; margin:0; padding: 0}\n",
       "\t.list-inline>li {display: inline-block}\n",
       "\t.list-inline>li:not(:last-child)::after {content: \"\\00b7\"; padding: 0 .5ex}\n",
       "\t</style>\n",
       "\t<ol class=list-inline><li>'Brenda'</li><li>'Evelyn'</li><li>'Sandy'</li></ol>\n",
       "</details>"
      ],
      "text/latex": [
       "Sandy\n",
       "\\emph{Levels}: \\begin{enumerate*}\n",
       "\\item 'Brenda'\n",
       "\\item 'Evelyn'\n",
       "\\item 'Sandy'\n",
       "\\end{enumerate*}\n"
      ],
      "text/markdown": [
       "Sandy\n",
       "**Levels**: 1. 'Brenda'\n",
       "2. 'Evelyn'\n",
       "3. 'Sandy'\n",
       "\n",
       "\n"
      ],
      "text/plain": [
       "[1] Sandy\n",
       "Levels: Brenda Evelyn Sandy"
      ]
     },
     "metadata": {},
     "output_type": "display_data"
    }
   ],
   "source": [
    "D$nama[1] # baris pertama dari nama"
   ]
  },
  {
   "cell_type": "markdown",
   "metadata": {},
   "source": [
    "Cara kedua:"
   ]
  },
  {
   "cell_type": "code",
   "execution_count": 21,
   "metadata": {},
   "outputs": [
    {
     "data": {
      "text/html": [
       "<table>\n",
       "<caption>A data.frame: 1 × 3</caption>\n",
       "<thead>\n",
       "\t<tr><th></th><th scope=col>nama</th><th scope=col>umur</th><th scope=col>gaji</th></tr>\n",
       "\t<tr><th></th><th scope=col>&lt;fct&gt;</th><th scope=col>&lt;dbl&gt;</th><th scope=col>&lt;dbl&gt;</th></tr>\n",
       "</thead>\n",
       "<tbody>\n",
       "\t<tr><th scope=row>1</th><td>Sandy</td><td>43</td><td>1e+06</td></tr>\n",
       "</tbody>\n",
       "</table>\n"
      ],
      "text/latex": [
       "A data.frame: 1 × 3\n",
       "\\begin{tabular}{r|lll}\n",
       "  & nama & umur & gaji\\\\\n",
       "  & <fct> & <dbl> & <dbl>\\\\\n",
       "\\hline\n",
       "\t1 & Sandy & 43 & 1e+06\\\\\n",
       "\\end{tabular}\n"
      ],
      "text/markdown": [
       "\n",
       "A data.frame: 1 × 3\n",
       "\n",
       "| <!--/--> | nama &lt;fct&gt; | umur &lt;dbl&gt; | gaji &lt;dbl&gt; |\n",
       "|---|---|---|---|\n",
       "| 1 | Sandy | 43 | 1e+06 |\n",
       "\n"
      ],
      "text/plain": [
       "  nama  umur gaji \n",
       "1 Sandy 43   1e+06"
      ]
     },
     "metadata": {},
     "output_type": "display_data"
    }
   ],
   "source": [
    "D[1,] # mengakses baris pertama"
   ]
  },
  {
   "cell_type": "code",
   "execution_count": 22,
   "metadata": {},
   "outputs": [
    {
     "data": {
      "text/html": [
       "<table>\n",
       "<caption>A data.frame: 2 × 3</caption>\n",
       "<thead>\n",
       "\t<tr><th></th><th scope=col>nama</th><th scope=col>umur</th><th scope=col>gaji</th></tr>\n",
       "\t<tr><th></th><th scope=col>&lt;fct&gt;</th><th scope=col>&lt;dbl&gt;</th><th scope=col>&lt;dbl&gt;</th></tr>\n",
       "</thead>\n",
       "<tbody>\n",
       "\t<tr><th scope=row>1</th><td>Sandy </td><td>43</td><td>1e+06</td></tr>\n",
       "\t<tr><th scope=row>2</th><td>Evelyn</td><td>23</td><td>9e+06</td></tr>\n",
       "</tbody>\n",
       "</table>\n"
      ],
      "text/latex": [
       "A data.frame: 2 × 3\n",
       "\\begin{tabular}{r|lll}\n",
       "  & nama & umur & gaji\\\\\n",
       "  & <fct> & <dbl> & <dbl>\\\\\n",
       "\\hline\n",
       "\t1 & Sandy  & 43 & 1e+06\\\\\n",
       "\t2 & Evelyn & 23 & 9e+06\\\\\n",
       "\\end{tabular}\n"
      ],
      "text/markdown": [
       "\n",
       "A data.frame: 2 × 3\n",
       "\n",
       "| <!--/--> | nama &lt;fct&gt; | umur &lt;dbl&gt; | gaji &lt;dbl&gt; |\n",
       "|---|---|---|---|\n",
       "| 1 | Sandy  | 43 | 1e+06 |\n",
       "| 2 | Evelyn | 23 | 9e+06 |\n",
       "\n"
      ],
      "text/plain": [
       "  nama   umur gaji \n",
       "1 Sandy  43   1e+06\n",
       "2 Evelyn 23   9e+06"
      ]
     },
     "metadata": {},
     "output_type": "display_data"
    }
   ],
   "source": [
    "D[c(1,2),] # akses seluruh kolom baris 1 - 2"
   ]
  },
  {
   "cell_type": "code",
   "execution_count": 23,
   "metadata": {},
   "outputs": [],
   "source": [
    "D$gaji <- D$gaji /(1e6) # membagi gaji sebanyak 10 dan menugaskan ulang ke dataframe"
   ]
  },
  {
   "cell_type": "code",
   "execution_count": 24,
   "metadata": {},
   "outputs": [
    {
     "data": {
      "text/html": [
       "<table>\n",
       "<caption>A data.frame: 3 × 3</caption>\n",
       "<thead>\n",
       "\t<tr><th scope=col>nama</th><th scope=col>umur</th><th scope=col>gaji</th></tr>\n",
       "\t<tr><th scope=col>&lt;fct&gt;</th><th scope=col>&lt;dbl&gt;</th><th scope=col>&lt;dbl&gt;</th></tr>\n",
       "</thead>\n",
       "<tbody>\n",
       "\t<tr><td>Sandy </td><td>43</td><td>1</td></tr>\n",
       "\t<tr><td>Evelyn</td><td>23</td><td>9</td></tr>\n",
       "\t<tr><td>Brenda</td><td>45</td><td>2</td></tr>\n",
       "</tbody>\n",
       "</table>\n"
      ],
      "text/latex": [
       "A data.frame: 3 × 3\n",
       "\\begin{tabular}{lll}\n",
       " nama & umur & gaji\\\\\n",
       " <fct> & <dbl> & <dbl>\\\\\n",
       "\\hline\n",
       "\t Sandy  & 43 & 1\\\\\n",
       "\t Evelyn & 23 & 9\\\\\n",
       "\t Brenda & 45 & 2\\\\\n",
       "\\end{tabular}\n"
      ],
      "text/markdown": [
       "\n",
       "A data.frame: 3 × 3\n",
       "\n",
       "| nama &lt;fct&gt; | umur &lt;dbl&gt; | gaji &lt;dbl&gt; |\n",
       "|---|---|---|\n",
       "| Sandy  | 43 | 1 |\n",
       "| Evelyn | 23 | 9 |\n",
       "| Brenda | 45 | 2 |\n",
       "\n"
      ],
      "text/plain": [
       "  nama   umur gaji\n",
       "1 Sandy  43   1   \n",
       "2 Evelyn 23   9   \n",
       "3 Brenda 45   2   "
      ]
     },
     "metadata": {},
     "output_type": "display_data"
    }
   ],
   "source": [
    "D"
   ]
  },
  {
   "cell_type": "code",
   "execution_count": 25,
   "metadata": {},
   "outputs": [
    {
     "data": {
      "text/plain": [
       "     nama        umur         gaji    \n",
       " Brenda:1   Min.   :23   Min.   :1.0  \n",
       " Evelyn:1   1st Qu.:33   1st Qu.:1.5  \n",
       " Sandy :1   Median :43   Median :2.0  \n",
       "            Mean   :37   Mean   :4.0  \n",
       "            3rd Qu.:44   3rd Qu.:5.5  \n",
       "            Max.   :45   Max.   :9.0  "
      ]
     },
     "metadata": {},
     "output_type": "display_data"
    }
   ],
   "source": [
    "# cara dapat intisari dataframe:\n",
    "\n",
    "summary(D)"
   ]
  },
  {
   "cell_type": "markdown",
   "metadata": {},
   "source": [
    "### Array"
   ]
  },
  {
   "cell_type": "markdown",
   "metadata": {},
   "source": [
    "Array merupakan koleksi elemen - elemen multidimensional yang mempunyai tipe data seragam."
   ]
  },
  {
   "cell_type": "markdown",
   "metadata": {},
   "source": [
    "Sintaks: `array(data, dim, dimnames)`"
   ]
  },
  {
   "cell_type": "markdown",
   "metadata": {},
   "source": [
    "Contoh:"
   ]
  },
  {
   "cell_type": "code",
   "execution_count": 9,
   "metadata": {},
   "outputs": [
    {
     "name": "stdout",
     "output_type": "stream",
     "text": [
      ", , 1\n",
      "\n",
      "     [,1]  [,2]  [,3] \n",
      "[1,] \"who\" \"who\" \"who\"\n",
      "[2,] \"am\"  \"am\"  \"am\" \n",
      "[3,] \"I\"   \"I\"   \"I\"  \n",
      "\n",
      ", , 2\n",
      "\n",
      "     [,1]  [,2]  [,3] \n",
      "[1,] \"who\" \"who\" \"who\"\n",
      "[2,] \"am\"  \"am\"  \"am\" \n",
      "[3,] \"I\"   \"I\"   \"I\"  \n",
      "\n"
     ]
    }
   ],
   "source": [
    "print(array(data=c(\"who\", 'am', 'I'), dim = c(3,3,2)))\n",
    "# dim => 3 baris, 3 kolom, 2 level (2 matriks)"
   ]
  },
  {
   "cell_type": "markdown",
   "metadata": {},
   "source": [
    "Harus diingat bahwa *array* harus punya tipe data **YANG SAMA**"
   ]
  },
  {
   "cell_type": "code",
   "execution_count": 10,
   "metadata": {},
   "outputs": [
    {
     "name": "stdout",
     "output_type": "stream",
     "text": [
      ", , M1\n",
      "\n",
      "   K1     K2     K3    \n",
      "B1 \"halo\" \"halo\" \"halo\"\n",
      "B2 \"hai\"  \"hai\"  \"hai\" \n",
      "B3 \"hoi\"  \"hoi\"  \"hoi\" \n",
      "\n",
      ", , M2\n",
      "\n",
      "   K1     K2     K3    \n",
      "B1 \"halo\" \"halo\" \"halo\"\n",
      "B2 \"hai\"  \"hai\"  \"hai\" \n",
      "B3 \"hoi\"  \"hoi\"  \"hoi\" \n",
      "\n"
     ]
    }
   ],
   "source": [
    "bar <- c(\"B1\", \"B2\", \"B3\")\n",
    "kol <- c(\"K1\", \"K2\", \"K3\")\n",
    "mat <- c(\"M1\", \"M2\")\n",
    "\n",
    "print(array(data=c(\"halo\",\"hai\",\"hoi\"), dim=c(3,3,2), dimnames=list(bar,kol,mat)))"
   ]
  },
  {
   "cell_type": "markdown",
   "metadata": {},
   "source": [
    "### Mengakses array"
   ]
  },
  {
   "cell_type": "code",
   "execution_count": 8,
   "metadata": {},
   "outputs": [
    {
     "name": "stdout",
     "output_type": "stream",
     "text": [
      ", , M1\n",
      "\n",
      "   K1    K2    K3   \n",
      "B1 \"who\" \"who\" \"who\"\n",
      "B2 \"am\"  \"am\"  \"am\" \n",
      "B3 \"I\"   \"I\"   \"I\"  \n",
      "\n",
      ", , M2\n",
      "\n",
      "   K1    K2    K3   \n",
      "B1 \"who\" \"who\" \"who\"\n",
      "B2 \"am\"  \"am\"  \"am\" \n",
      "B3 \"I\"   \"I\"   \"I\"  \n",
      "\n"
     ]
    }
   ],
   "source": [
    "bar <- c(\"B1\", \"B2\", \"B3\")\n",
    "kol <- c(\"K1\", \"K2\", \"K3\")\n",
    "mat <- c(\"M1\", \"M2\")\n",
    "\n",
    "A <- array(data=c(\"who\",\"am\",\"I\"), dim=c(3,3,2), dimnames=list(bar,kol,mat))\n",
    "print(A)"
   ]
  },
  {
   "cell_type": "code",
   "execution_count": 11,
   "metadata": {},
   "outputs": [
    {
     "data": {
      "text/html": [
       "'who'"
      ],
      "text/latex": [
       "'who'"
      ],
      "text/markdown": [
       "'who'"
      ],
      "text/plain": [
       "[1] \"who\""
      ]
     },
     "metadata": {},
     "output_type": "display_data"
    }
   ],
   "source": [
    "A[1,1,1] # A[baris, kolom, matriks]"
   ]
  },
  {
   "cell_type": "code",
   "execution_count": 12,
   "metadata": {},
   "outputs": [
    {
     "data": {
      "text/html": [
       "<style>\n",
       ".dl-inline {width: auto; margin:0; padding: 0}\n",
       ".dl-inline>dt, .dl-inline>dd {float: none; width: auto; display: inline-block}\n",
       ".dl-inline>dt::after {content: \":\\0020\"; padding-right: .5ex}\n",
       ".dl-inline>dt:not(:first-of-type) {padding-left: .5ex}\n",
       "</style><dl class=dl-inline><dt>M1</dt><dd>'who'</dd><dt>M2</dt><dd>'who'</dd></dl>\n"
      ],
      "text/latex": [
       "\\begin{description*}\n",
       "\\item[M1] 'who'\n",
       "\\item[M2] 'who'\n",
       "\\end{description*}\n"
      ],
      "text/markdown": [
       "M1\n",
       ":   'who'M2\n",
       ":   'who'\n",
       "\n"
      ],
      "text/plain": [
       "   M1    M2 \n",
       "\"who\" \"who\" "
      ]
     },
     "metadata": {},
     "output_type": "display_data"
    }
   ],
   "source": [
    "A[1,1,] # baris 1, kolom 1, semua matriks"
   ]
  },
  {
   "cell_type": "code",
   "execution_count": 13,
   "metadata": {},
   "outputs": [
    {
     "data": {
      "text/html": [
       "<style>\n",
       ".dl-inline {width: auto; margin:0; padding: 0}\n",
       ".dl-inline>dt, .dl-inline>dd {float: none; width: auto; display: inline-block}\n",
       ".dl-inline>dt::after {content: \":\\0020\"; padding-right: .5ex}\n",
       ".dl-inline>dt:not(:first-of-type) {padding-left: .5ex}\n",
       "</style><dl class=dl-inline><dt>K1</dt><dd>'who'</dd><dt>K2</dt><dd>'who'</dd><dt>K3</dt><dd>'who'</dd></dl>\n"
      ],
      "text/latex": [
       "\\begin{description*}\n",
       "\\item[K1] 'who'\n",
       "\\item[K2] 'who'\n",
       "\\item[K3] 'who'\n",
       "\\end{description*}\n"
      ],
      "text/markdown": [
       "K1\n",
       ":   'who'K2\n",
       ":   'who'K3\n",
       ":   'who'\n",
       "\n"
      ],
      "text/plain": [
       "   K1    K2    K3 \n",
       "\"who\" \"who\" \"who\" "
      ]
     },
     "metadata": {},
     "output_type": "display_data"
    }
   ],
   "source": [
    "A[1,,1] # baris 1, semua kolom, matriks 1"
   ]
  },
  {
   "cell_type": "code",
   "execution_count": 14,
   "metadata": {},
   "outputs": [
    {
     "data": {
      "text/html": [
       "<table>\n",
       "<caption>A matrix: 3 × 2 of type chr</caption>\n",
       "<thead>\n",
       "\t<tr><th></th><th scope=col>M1</th><th scope=col>M2</th></tr>\n",
       "</thead>\n",
       "<tbody>\n",
       "\t<tr><th scope=row>K1</th><td>who</td><td>who</td></tr>\n",
       "\t<tr><th scope=row>K2</th><td>who</td><td>who</td></tr>\n",
       "\t<tr><th scope=row>K3</th><td>who</td><td>who</td></tr>\n",
       "</tbody>\n",
       "</table>\n"
      ],
      "text/latex": [
       "A matrix: 3 × 2 of type chr\n",
       "\\begin{tabular}{r|ll}\n",
       "  & M1 & M2\\\\\n",
       "\\hline\n",
       "\tK1 & who & who\\\\\n",
       "\tK2 & who & who\\\\\n",
       "\tK3 & who & who\\\\\n",
       "\\end{tabular}\n"
      ],
      "text/markdown": [
       "\n",
       "A matrix: 3 × 2 of type chr\n",
       "\n",
       "| <!--/--> | M1 | M2 |\n",
       "|---|---|---|\n",
       "| K1 | who | who |\n",
       "| K2 | who | who |\n",
       "| K3 | who | who |\n",
       "\n"
      ],
      "text/plain": [
       "   M1  M2 \n",
       "K1 who who\n",
       "K2 who who\n",
       "K3 who who"
      ]
     },
     "metadata": {},
     "output_type": "display_data"
    }
   ],
   "source": [
    "A[\"B1\",,] # baris B1, semua kolom, semua matriks"
   ]
  },
  {
   "cell_type": "markdown",
   "metadata": {},
   "source": [
    "### Mengenal list"
   ]
  },
  {
   "cell_type": "code",
   "execution_count": 18,
   "metadata": {},
   "outputs": [],
   "source": [
    "L = list(\"PNP\", 1:3, TRUE, matrix(1:6, nrow=2), array(5:10, dim = c(3,3,2)))"
   ]
  },
  {
   "cell_type": "code",
   "execution_count": null,
   "metadata": {},
   "outputs": [],
   "source": []
  }
 ],
 "metadata": {
  "kernelspec": {
   "display_name": "R",
   "language": "R",
   "name": "ir"
  },
  "language_info": {
   "codemirror_mode": "r",
   "file_extension": ".r",
   "mimetype": "text/x-r-source",
   "name": "R",
   "pygments_lexer": "r",
   "version": "3.6.1"
  }
 },
 "nbformat": 4,
 "nbformat_minor": 4
}
