{
 "cells": [
  {
   "cell_type": "code",
   "execution_count": 1,
   "metadata": {},
   "outputs": [
    {
     "name": "stdout",
     "output_type": "stream",
     "text": [
      "ans =  2\r\n"
     ]
    }
   ],
   "source": [
    "1 +1"
   ]
  },
  {
   "cell_type": "code",
   "execution_count": 2,
   "metadata": {},
   "outputs": [
    {
     "name": "stdout",
     "output_type": "stream",
     "text": [
      "x =\n",
      "\n",
      "    1    2    3    4    5    6    7    8    9   10\n",
      "\n",
      "error: feval: /usr/lib/octave/5.2.0/oct/x86_64-pc-linux-gnu/__init_fltk__.oct: failed to load: libfltk_gl.so.1.3: cannot open shared object file: No such file or directory\n",
      "error: called from\n",
      "    graphics_toolkit at line 91 column 5\n",
      "    figure at line 91 column 7\n",
      "    newplot at line 117 column 10\n",
      "    plot at line 222 column 9\n"
     ]
    },
    {
     "name": "stderr",
     "output_type": "stream",
     "text": [
      "\u001b[0;31mInline plot failed, consider trying another graphics toolkit\n",
      "error: print: no axes object in figure to print\r\n",
      "error: called from\r\n",
      "    _make_figures>safe_print at line 125 column 7\r\n",
      "    _make_figures at line 49 column 13\r\n",
      "\n",
      "\u001b[0m"
     ]
    }
   ],
   "source": [
    "x = 1:10\n",
    "plot(x)"
   ]
  },
  {
   "cell_type": "code",
   "execution_count": null,
   "metadata": {},
   "outputs": [],
   "source": []
  }
 ],
 "metadata": {
  "kernelspec": {
   "display_name": "Octave",
   "language": "octave",
   "name": "octave"
  },
  "language_info": {
   "file_extension": ".m",
   "help_links": [
    {
     "text": "GNU Octave",
     "url": "https://www.gnu.org/software/octave/support.html"
    },
    {
     "text": "Octave Kernel",
     "url": "https://github.com/Calysto/octave_kernel"
    },
    {
     "text": "MetaKernel Magics",
     "url": "https://metakernel.readthedocs.io/en/latest/source/README.html"
    }
   ],
   "mimetype": "text/x-octave",
   "name": "octave",
   "version": "5.2.0"
  }
 },
 "nbformat": 4,
 "nbformat_minor": 4
}
